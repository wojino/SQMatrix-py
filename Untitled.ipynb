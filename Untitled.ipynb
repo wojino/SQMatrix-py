{
 "cells": [
  {
   "cell_type": "code",
   "execution_count": 2,
   "id": "c5a270a7",
   "metadata": {},
   "outputs": [],
   "source": [
    "from src.SQMatrix import Matrix\n",
    "from IPython.display import Math"
   ]
  },
  {
   "cell_type": "code",
   "execution_count": 3,
   "id": "e157ae5f",
   "metadata": {},
   "outputs": [
    {
     "name": "stdout",
     "output_type": "stream",
     "text": [
      "[[Fraction(1, 1), Fraction(2, 1), Fraction(3, 1)], [Fraction(4, 1), Fraction(5, 1), Fraction(6, 1)], [Fraction(7, 1), Fraction(8, 1), Fraction(9, 1)]]\n"
     ]
    }
   ],
   "source": [
    "A = Matrix(3, [1,2,3,4,5,6,7,8,9])\n",
    "\n",
    "print(A)"
   ]
  },
  {
   "cell_type": "code",
   "execution_count": 7,
   "id": "6361a592",
   "metadata": {},
   "outputs": [
    {
     "data": {
      "text/latex": [
       "$\\displaystyle \\begin{bmatrix} 1&4&7\\\\ 2&5&8\\\\ 3&6&9 \\end{bmatrix}$"
      ],
      "text/plain": [
       "<IPython.core.display.Math object>"
      ]
     },
     "execution_count": 7,
     "metadata": {},
     "output_type": "execute_result"
    }
   ],
   "source": [
    "Math(A.show())"
   ]
  },
  {
   "cell_type": "code",
   "execution_count": 8,
   "id": "2b7e3595",
   "metadata": {},
   "outputs": [],
   "source": [
    "L, U = A.lu(\"doolittle\")"
   ]
  },
  {
   "cell_type": "code",
   "execution_count": 9,
   "id": "45b85c6a",
   "metadata": {},
   "outputs": [
    {
     "data": {
      "text/latex": [
       "$\\displaystyle \\begin{bmatrix} 1&4&7\\\\ 2&5&8\\\\ 3&6&9 \\end{bmatrix}=\\begin{bmatrix} 1&4&7\\\\ 0&1&2\\\\ 0&0&1 \\end{bmatrix}\\begin{bmatrix} 1&0&0\\\\ 2&-3&0\\\\ 3&-6&0 \\end{bmatrix}$"
      ],
      "text/plain": [
       "<IPython.core.display.Math object>"
      ]
     },
     "execution_count": 9,
     "metadata": {},
     "output_type": "execute_result"
    }
   ],
   "source": [
    "Math(A.show() +\"=\" +L.show() +U.show())"
   ]
  },
  {
   "cell_type": "code",
   "execution_count": 10,
   "id": "9f254f70",
   "metadata": {},
   "outputs": [
    {
     "data": {
      "text/latex": [
       "$\\displaystyle \\begin{bmatrix} 1&4&7\\\\ 2&5&8\\\\ 3&6&9 \\end{bmatrix}$"
      ],
      "text/plain": [
       "<IPython.core.display.Math object>"
      ]
     },
     "execution_count": 10,
     "metadata": {},
     "output_type": "execute_result"
    }
   ],
   "source": [
    "Math(Matrix.show(L*U))"
   ]
  },
  {
   "cell_type": "code",
   "execution_count": 11,
   "id": "5fd8df61",
   "metadata": {},
   "outputs": [
    {
     "data": {
      "text/plain": [
       "True"
      ]
     },
     "execution_count": 11,
     "metadata": {},
     "output_type": "execute_result"
    }
   ],
   "source": [
    "A == L*U"
   ]
  },
  {
   "cell_type": "code",
   "execution_count": 13,
   "id": "14a3828a",
   "metadata": {},
   "outputs": [
    {
     "data": {
      "text/latex": [
       "$\\displaystyle \\begin{bmatrix} 5404319552844595/4503599627370496&6&3\\\\ 3152519739159347/2251799813685248&8&4\\\\ 7656119366529843/2251799813685248&9&5 \\end{bmatrix}=\\begin{bmatrix} 1&27021597764222976/5404319552844595&13510798882111488/5404319552844595\\\\ 0&1&1/2\\\\ 0&0&1 \\end{bmatrix}\\begin{bmatrix} 5404319552844595/4503599627370496&0&0\\\\ 3152519739159347/2251799813685248&5404319552844596/5404319552844595&0\\\\ 7656119366529843/2251799813685248&-43234556422756761/5404319552844595&1/2 \\end{bmatrix}$"
      ],
      "text/plain": [
       "<IPython.core.display.Math object>"
      ]
     },
     "execution_count": 13,
     "metadata": {},
     "output_type": "execute_result"
    }
   ],
   "source": [
    "A = Matrix(3, [1.2,1.4,3.4,6,8,9,3,4,5])\n",
    "L, U = A.lu(\"doolittle\")\n",
    "Math(A.show() +\"=\" +L.show() +U.show())"
   ]
  },
  {
   "cell_type": "code",
   "execution_count": null,
   "id": "163d74a7",
   "metadata": {},
   "outputs": [],
   "source": []
  }
 ],
 "metadata": {
  "kernelspec": {
   "display_name": "Python 3",
   "language": "python",
   "name": "python3"
  },
  "language_info": {
   "codemirror_mode": {
    "name": "ipython",
    "version": 3
   },
   "file_extension": ".py",
   "mimetype": "text/x-python",
   "name": "python",
   "nbconvert_exporter": "python",
   "pygments_lexer": "ipython3",
   "version": "3.9.3"
  }
 },
 "nbformat": 4,
 "nbformat_minor": 5
}
